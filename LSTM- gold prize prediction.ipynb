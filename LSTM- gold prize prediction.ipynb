{
 "cells": [
  {
   "cell_type": "code",
   "execution_count": 1,
   "metadata": {},
   "outputs": [],
   "source": [
    "import numpy as np\n",
    "import pandas as pd\n",
    "import matplotlib.pyplot as plt\n",
    "%matplotlib inline\n",
    "from matplotlib.pyplot import rcParams\n",
    "rcParams['figure.figsize']=10,6\n",
    "\n",
    "from pandas import set_option\n",
    "#set_option('precision',5)\n",
    "pd.options.display.float_format = '{:.5f}'.format"
   ]
  },
  {
   "cell_type": "markdown",
   "metadata": {},
   "source": [
    "#### Source of the data: https://finance.yahoo.com/quote/GC%3DF/history?period1=1293840000&period2=1591747200&interval=1d&filter=history&frequency=1d"
   ]
  },
  {
   "cell_type": "code",
   "execution_count": 2,
   "metadata": {},
   "outputs": [],
   "source": [
    "#dataset = pd.read_csv('yahoostocks.csv',index_col='Date',parse_dates=True,infer_datetime_format=True)\n",
    "dataset = pd.read_csv('GoldPrize.csv',index_col='Date',parse_dates=True,infer_datetime_format=True)"
   ]
  },
  {
   "cell_type": "code",
   "execution_count": 3,
   "metadata": {},
   "outputs": [
    {
     "data": {
      "text/html": [
       "<div>\n",
       "<style scoped>\n",
       "    .dataframe tbody tr th:only-of-type {\n",
       "        vertical-align: middle;\n",
       "    }\n",
       "\n",
       "    .dataframe tbody tr th {\n",
       "        vertical-align: top;\n",
       "    }\n",
       "\n",
       "    .dataframe thead th {\n",
       "        text-align: right;\n",
       "    }\n",
       "</style>\n",
       "<table border=\"1\" class=\"dataframe\">\n",
       "  <thead>\n",
       "    <tr style=\"text-align: right;\">\n",
       "      <th></th>\n",
       "      <th>Open</th>\n",
       "      <th>High</th>\n",
       "      <th>Low</th>\n",
       "      <th>Close</th>\n",
       "      <th>Adj Close</th>\n",
       "      <th>Volume</th>\n",
       "    </tr>\n",
       "    <tr>\n",
       "      <th>Date</th>\n",
       "      <th></th>\n",
       "      <th></th>\n",
       "      <th></th>\n",
       "      <th></th>\n",
       "      <th></th>\n",
       "      <th></th>\n",
       "    </tr>\n",
       "  </thead>\n",
       "  <tbody>\n",
       "    <tr>\n",
       "      <th>2011-01-03</th>\n",
       "      <td>1415.59998</td>\n",
       "      <td>1423.90002</td>\n",
       "      <td>1413.69995</td>\n",
       "      <td>1422.59998</td>\n",
       "      <td>1422.59998</td>\n",
       "      <td>54.00000</td>\n",
       "    </tr>\n",
       "    <tr>\n",
       "      <th>2011-01-04</th>\n",
       "      <td>1409.59998</td>\n",
       "      <td>1410.90002</td>\n",
       "      <td>1375.80005</td>\n",
       "      <td>1378.50000</td>\n",
       "      <td>1378.50000</td>\n",
       "      <td>28.00000</td>\n",
       "    </tr>\n",
       "    <tr>\n",
       "      <th>2011-01-05</th>\n",
       "      <td>1383.40002</td>\n",
       "      <td>1384.00000</td>\n",
       "      <td>1364.19995</td>\n",
       "      <td>1373.40002</td>\n",
       "      <td>1373.40002</td>\n",
       "      <td>122.00000</td>\n",
       "    </tr>\n",
       "    <tr>\n",
       "      <th>2011-01-06</th>\n",
       "      <td>1374.80005</td>\n",
       "      <td>1376.50000</td>\n",
       "      <td>1368.90002</td>\n",
       "      <td>1371.40002</td>\n",
       "      <td>1371.40002</td>\n",
       "      <td>175.00000</td>\n",
       "    </tr>\n",
       "    <tr>\n",
       "      <th>2011-01-07</th>\n",
       "      <td>1372.69995</td>\n",
       "      <td>1377.19995</td>\n",
       "      <td>1355.50000</td>\n",
       "      <td>1368.50000</td>\n",
       "      <td>1368.50000</td>\n",
       "      <td>158.00000</td>\n",
       "    </tr>\n",
       "    <tr>\n",
       "      <th>2011-01-09</th>\n",
       "      <td>nan</td>\n",
       "      <td>nan</td>\n",
       "      <td>nan</td>\n",
       "      <td>nan</td>\n",
       "      <td>nan</td>\n",
       "      <td>nan</td>\n",
       "    </tr>\n",
       "    <tr>\n",
       "      <th>2011-01-10</th>\n",
       "      <td>1369.00000</td>\n",
       "      <td>1374.00000</td>\n",
       "      <td>1365.69995</td>\n",
       "      <td>1373.69995</td>\n",
       "      <td>1373.69995</td>\n",
       "      <td>225.00000</td>\n",
       "    </tr>\n",
       "    <tr>\n",
       "      <th>2011-01-11</th>\n",
       "      <td>1375.40002</td>\n",
       "      <td>1384.50000</td>\n",
       "      <td>1373.90002</td>\n",
       "      <td>1384.00000</td>\n",
       "      <td>1384.00000</td>\n",
       "      <td>181.00000</td>\n",
       "    </tr>\n",
       "    <tr>\n",
       "      <th>2011-01-12</th>\n",
       "      <td>1382.59998</td>\n",
       "      <td>1385.50000</td>\n",
       "      <td>1378.00000</td>\n",
       "      <td>1385.69995</td>\n",
       "      <td>1385.69995</td>\n",
       "      <td>13.00000</td>\n",
       "    </tr>\n",
       "    <tr>\n",
       "      <th>2011-01-13</th>\n",
       "      <td>1386.09998</td>\n",
       "      <td>1392.50000</td>\n",
       "      <td>1371.40002</td>\n",
       "      <td>1386.90002</td>\n",
       "      <td>1386.90002</td>\n",
       "      <td>204.00000</td>\n",
       "    </tr>\n",
       "  </tbody>\n",
       "</table>\n",
       "</div>"
      ],
      "text/plain": [
       "                 Open       High        Low      Close  Adj Close    Volume\n",
       "Date                                                                       \n",
       "2011-01-03 1415.59998 1423.90002 1413.69995 1422.59998 1422.59998  54.00000\n",
       "2011-01-04 1409.59998 1410.90002 1375.80005 1378.50000 1378.50000  28.00000\n",
       "2011-01-05 1383.40002 1384.00000 1364.19995 1373.40002 1373.40002 122.00000\n",
       "2011-01-06 1374.80005 1376.50000 1368.90002 1371.40002 1371.40002 175.00000\n",
       "2011-01-07 1372.69995 1377.19995 1355.50000 1368.50000 1368.50000 158.00000\n",
       "2011-01-09        nan        nan        nan        nan        nan       nan\n",
       "2011-01-10 1369.00000 1374.00000 1365.69995 1373.69995 1373.69995 225.00000\n",
       "2011-01-11 1375.40002 1384.50000 1373.90002 1384.00000 1384.00000 181.00000\n",
       "2011-01-12 1382.59998 1385.50000 1378.00000 1385.69995 1385.69995  13.00000\n",
       "2011-01-13 1386.09998 1392.50000 1371.40002 1386.90002 1386.90002 204.00000"
      ]
     },
     "execution_count": 3,
     "metadata": {},
     "output_type": "execute_result"
    }
   ],
   "source": [
    "dataset.head(10)"
   ]
  },
  {
   "cell_type": "code",
   "execution_count": 4,
   "metadata": {},
   "outputs": [
    {
     "data": {
      "text/html": [
       "<div>\n",
       "<style scoped>\n",
       "    .dataframe tbody tr th:only-of-type {\n",
       "        vertical-align: middle;\n",
       "    }\n",
       "\n",
       "    .dataframe tbody tr th {\n",
       "        vertical-align: top;\n",
       "    }\n",
       "\n",
       "    .dataframe thead th {\n",
       "        text-align: right;\n",
       "    }\n",
       "</style>\n",
       "<table border=\"1\" class=\"dataframe\">\n",
       "  <thead>\n",
       "    <tr style=\"text-align: right;\">\n",
       "      <th></th>\n",
       "      <th>Open</th>\n",
       "      <th>High</th>\n",
       "      <th>Low</th>\n",
       "      <th>Close</th>\n",
       "      <th>Adj Close</th>\n",
       "      <th>Volume</th>\n",
       "    </tr>\n",
       "  </thead>\n",
       "  <tbody>\n",
       "    <tr>\n",
       "      <th>count</th>\n",
       "      <td>2373.00000</td>\n",
       "      <td>2373.00000</td>\n",
       "      <td>2373.00000</td>\n",
       "      <td>2373.00000</td>\n",
       "      <td>2373.00000</td>\n",
       "      <td>2373.00000</td>\n",
       "    </tr>\n",
       "    <tr>\n",
       "      <th>mean</th>\n",
       "      <td>1375.87122</td>\n",
       "      <td>1382.96127</td>\n",
       "      <td>1368.11635</td>\n",
       "      <td>1375.68862</td>\n",
       "      <td>1375.68862</td>\n",
       "      <td>2097516.32280</td>\n",
       "    </tr>\n",
       "    <tr>\n",
       "      <th>std</th>\n",
       "      <td>188.54428</td>\n",
       "      <td>190.58497</td>\n",
       "      <td>185.85117</td>\n",
       "      <td>188.44132</td>\n",
       "      <td>188.44132</td>\n",
       "      <td>15026919.12584</td>\n",
       "    </tr>\n",
       "    <tr>\n",
       "      <th>min</th>\n",
       "      <td>1053.69995</td>\n",
       "      <td>1062.00000</td>\n",
       "      <td>1046.19995</td>\n",
       "      <td>1050.80005</td>\n",
       "      <td>1050.80005</td>\n",
       "      <td>0.00000</td>\n",
       "    </tr>\n",
       "    <tr>\n",
       "      <th>25%</th>\n",
       "      <td>1238.40002</td>\n",
       "      <td>1243.90002</td>\n",
       "      <td>1231.80005</td>\n",
       "      <td>1238.30005</td>\n",
       "      <td>1238.30005</td>\n",
       "      <td>36.00000</td>\n",
       "    </tr>\n",
       "    <tr>\n",
       "      <th>50%</th>\n",
       "      <td>1310.69995</td>\n",
       "      <td>1315.59998</td>\n",
       "      <td>1306.09998</td>\n",
       "      <td>1310.69995</td>\n",
       "      <td>1310.69995</td>\n",
       "      <td>138.00000</td>\n",
       "    </tr>\n",
       "    <tr>\n",
       "      <th>75%</th>\n",
       "      <td>1525.00000</td>\n",
       "      <td>1533.09998</td>\n",
       "      <td>1514.69995</td>\n",
       "      <td>1524.50000</td>\n",
       "      <td>1524.50000</td>\n",
       "      <td>500.00000</td>\n",
       "    </tr>\n",
       "    <tr>\n",
       "      <th>max</th>\n",
       "      <td>1909.00000</td>\n",
       "      <td>1911.59998</td>\n",
       "      <td>1864.00000</td>\n",
       "      <td>1888.69995</td>\n",
       "      <td>1888.69995</td>\n",
       "      <td>230724452.00000</td>\n",
       "    </tr>\n",
       "  </tbody>\n",
       "</table>\n",
       "</div>"
      ],
      "text/plain": [
       "            Open       High        Low      Close  Adj Close          Volume\n",
       "count 2373.00000 2373.00000 2373.00000 2373.00000 2373.00000      2373.00000\n",
       "mean  1375.87122 1382.96127 1368.11635 1375.68862 1375.68862   2097516.32280\n",
       "std    188.54428  190.58497  185.85117  188.44132  188.44132  15026919.12584\n",
       "min   1053.69995 1062.00000 1046.19995 1050.80005 1050.80005         0.00000\n",
       "25%   1238.40002 1243.90002 1231.80005 1238.30005 1238.30005        36.00000\n",
       "50%   1310.69995 1315.59998 1306.09998 1310.69995 1310.69995       138.00000\n",
       "75%   1525.00000 1533.09998 1514.69995 1524.50000 1524.50000       500.00000\n",
       "max   1909.00000 1911.59998 1864.00000 1888.69995 1888.69995 230724452.00000"
      ]
     },
     "execution_count": 4,
     "metadata": {},
     "output_type": "execute_result"
    }
   ],
   "source": [
    "# check for the null values\n",
    "dataset['Close'].dropna(inplace=True)\n",
    "dataset.describe(include = 'all')\n",
    "\n",
    "#dataset['Close'].dropna(inplace=True) "
   ]
  },
  {
   "cell_type": "code",
   "execution_count": 5,
   "metadata": {},
   "outputs": [
    {
     "data": {
      "text/plain": [
       "<matplotlib.axes._subplots.AxesSubplot at 0x16f9ef1188>"
      ]
     },
     "execution_count": 5,
     "metadata": {},
     "output_type": "execute_result"
    },
    {
     "data": {
      "image/png": "[encoded data removed]",
      "text/plain": [
       "<Figure size 432x288 with 1 Axes>"
      ]
     },
     "metadata": {
      "needs_background": "light"
     },
     "output_type": "display_data"
    }
   ],
   "source": [
    "dataset['Close'].plot(kind='line')"
   ]
  },
  {
   "cell_type": "markdown",
   "metadata": {},
   "source": [
    "#### Here we ca see that there is trend(upward and downward) assign with the data and some seasonality is also present.\n",
    "#### Lets apply LSTM moel to the data for predictions - Deep learning."
   ]
  },
  {
   "cell_type": "code",
   "execution_count": 6,
   "metadata": {},
   "outputs": [
    {
     "data": {
      "text/plain": [
       "Close    False\n",
       "dtype: bool"
      ]
     },
     "execution_count": 6,
     "metadata": {},
     "output_type": "execute_result"
    }
   ],
   "source": [
    "data = dataset.filter(['Close'])\n",
    "data.dropna(inplace=True)\n",
    "data.isna().any()\n",
    "#data"
   ]
  },
  {
   "cell_type": "markdown",
   "metadata": {},
   "source": [
    "##### we nee to convert data into range of 0 to 1 for passing as an input to LSTM"
   ]
  },
  {
   "cell_type": "code",
   "execution_count": 7,
   "metadata": {},
   "outputs": [],
   "source": [
    "from sklearn.preprocessing import MinMaxScaler\n",
    "scaler = MinMaxScaler(feature_range=(0, 1))\n",
    "#scaled_data = scaler.fit_transform(np.array(data).reshape(-1,1))"
   ]
  },
  {
   "cell_type": "code",
   "execution_count": 8,
   "metadata": {},
   "outputs": [],
   "source": [
    "data_scaled = scaler.fit_transform(np.array(data).reshape(-1,1))\n",
    "datalen = int((len(data)*0.7))\n",
    "\n",
    "train_data_scaled = data_scaled[0:datalen]\n",
    "test_data_scaled = data_scaled[datalen:]"
   ]
  },
  {
   "cell_type": "code",
   "execution_count": 9,
   "metadata": {},
   "outputs": [
    {
     "data": {
      "text/plain": [
       "((1661, 1), (712, 1), 2373)"
      ]
     },
     "execution_count": 9,
     "metadata": {},
     "output_type": "execute_result"
    }
   ],
   "source": [
    "train_data_scaled.shape, test_data_scaled.shape,len(data)"
   ]
  },
  {
   "cell_type": "code",
   "execution_count": 10,
   "metadata": {},
   "outputs": [],
   "source": [
    "#creating a method for testing the data\n",
    "def create_train_test_data(data,time_step=90):\n",
    "    X_data, Y_data = [],[]\n",
    "    for i in range(len(data) - time_step - 1):\n",
    "        a = data[i:(i+time_step),0]\n",
    "        b = data[i+time_step,0]\n",
    "        X_data.append(a)\n",
    "        Y_data.append(b)\n",
    "    return np.array(X_data) , np.array(Y_data)"
   ]
  },
  {
   "cell_type": "code",
   "execution_count": 11,
   "metadata": {},
   "outputs": [
    {
     "name": "stdout",
     "output_type": "stream",
     "text": [
      "[[0.38262324]\n",
      " [0.37916218]\n",
      " [0.38536811]\n",
      " [0.39766081]\n",
      " [0.39968963]\n",
      " [0.40112187]\n",
      " [0.36949518]\n",
      " [0.37868476]\n",
      " [0.381191  ]\n",
      " [0.35290606]\n",
      " [0.34634203]\n",
      " [0.35051914]\n",
      " [0.33595898]\n",
      " [0.33679435]\n",
      " [0.31936986]\n",
      " [0.34598393]\n",
      " [0.33774917]\n",
      " [0.34467116]\n",
      " [0.33500416]\n",
      " [0.35982818]\n",
      " [0.35505434]\n",
      " [0.35421883]\n",
      " [0.37307556]\n",
      " [0.37474643]\n",
      " [0.37128537]\n",
      " [0.36889845]\n",
      " [0.37450765]\n",
      " [0.38524879]\n",
      " [0.38656157]\n",
      " [0.39849617]\n",
      " [0.40267328]\n",
      " [0.4173529 ]\n",
      " [0.43274856]\n",
      " [0.43501616]\n",
      " [0.42713921]\n",
      " [0.4278554 ]\n",
      " [0.45339533]\n",
      " [0.46115282]\n",
      " [0.43585153]\n",
      " [0.45041168]\n",
      " [0.45745312]\n",
      " [0.44886027]\n",
      " [0.4517246 ]\n",
      " [0.43131632]\n",
      " [0.44241556]\n",
      " [0.44611525]\n",
      " [0.40792453]\n",
      " [0.41198233]\n",
      " [0.42153001]\n",
      " [0.43573221]\n",
      " [0.44802476]\n",
      " [0.44957632]\n",
      " [0.46198833]\n",
      " [0.45828863]\n",
      " [0.44790544]\n",
      " [0.44038673]\n",
      " [0.43585153]\n",
      " [0.44516057]\n",
      " [0.46318179]\n",
      " [0.45029236]\n",
      " [0.45518552]\n",
      " [0.47857745]\n",
      " [0.48561875]\n",
      " [0.48657358]\n",
      " [0.50435616]\n",
      " [0.4971954 ]\n",
      " [0.47989023]\n",
      " [0.48227715]\n",
      " [0.50232719]\n",
      " [0.51855836]\n",
      " [0.52691258]\n",
      " [0.52953813]\n",
      " [0.53407334]\n",
      " [0.53992118]\n",
      " [0.54636589]\n",
      " [0.53968254]\n",
      " [0.55603289]\n",
      " [0.57286079]\n",
      " [0.60293592]\n",
      " [0.60377129]\n",
      " [0.58395988]\n",
      " [0.55388475]\n",
      " [0.51330711]\n",
      " [0.52559966]\n",
      " [0.53956323]\n",
      " [0.55591357]\n",
      " [0.53741494]\n",
      " [0.54397897]\n",
      " [0.52822536]\n",
      " [0.52464498]\n",
      " [0.51199433]\n",
      " [0.53085091]\n",
      " [0.52679312]\n",
      " [0.54660467]\n",
      " [0.55436216]\n",
      " [0.56379038]\n",
      " [0.56784817]\n",
      " [0.56331311]\n",
      " [0.57942482]\n",
      " [0.57894741]] [0.5867049]\n",
      "[[0.56784817]\n",
      " [0.56331311]\n",
      " [0.57942482]]\n"
     ]
    }
   ],
   "source": [
    "print(train_data_scaled[3:103],train_data_scaled[103])\n",
    "print(train_data_scaled[99:102])"
   ]
  },
  {
   "cell_type": "code",
   "execution_count": 12,
   "metadata": {},
   "outputs": [],
   "source": [
    "time_step = 100\n",
    "X_train, Y_train = create_train_test_data(train_data_scaled,time_step)\n",
    "X_test, Y_test = create_train_test_data(test_data_scaled,time_step)"
   ]
  },
  {
   "cell_type": "code",
   "execution_count": 13,
   "metadata": {},
   "outputs": [
    {
     "data": {
      "text/plain": [
       "((1560, 100), (1560,))"
      ]
     },
     "execution_count": 13,
     "metadata": {},
     "output_type": "execute_result"
    }
   ],
   "source": [
    "X_train.shape,Y_train.shape"
   ]
  },
  {
   "cell_type": "code",
   "execution_count": 14,
   "metadata": {},
   "outputs": [
    {
     "data": {
      "text/plain": [
       "((611, 100), (611,))"
      ]
     },
     "execution_count": 14,
     "metadata": {},
     "output_type": "execute_result"
    }
   ],
   "source": [
    "X_test.shape,Y_test.shape"
   ]
  },
  {
   "cell_type": "code",
   "execution_count": 15,
   "metadata": {},
   "outputs": [],
   "source": [
    "# before implementing LSTM model we need to change our shape into 3-D\n",
    "X_train = X_train.reshape(X_train.shape[0] , X_train.shape[1], 1)\n",
    "X_test = X_test.reshape(X_test.shape[0] , X_test.shape[1], 1)"
   ]
  },
  {
   "cell_type": "code",
   "execution_count": 16,
   "metadata": {},
   "outputs": [
    {
     "data": {
      "text/plain": [
       "((1560, 100, 1), (611, 100, 1))"
      ]
     },
     "execution_count": 16,
     "metadata": {},
     "output_type": "execute_result"
    }
   ],
   "source": [
    "X_train.shape,X_test.shape"
   ]
  },
  {
   "cell_type": "code",
   "execution_count": 17,
   "metadata": {},
   "outputs": [
    {
     "data": {
      "text/plain": [
       "(100, 1)"
      ]
     },
     "execution_count": 17,
     "metadata": {},
     "output_type": "execute_result"
    }
   ],
   "source": [
    "#pip install tensorflow\n",
    "(X_train.shape[1],1)"
   ]
  },
  {
   "cell_type": "code",
   "execution_count": 39,
   "metadata": {},
   "outputs": [],
   "source": [
    "from tensorflow.keras.models import Sequential\n",
    "from tensorflow.keras.layers import Dense\n",
    "from tensorflow.keras.layers import LSTM"
   ]
  },
  {
   "cell_type": "code",
   "execution_count": 84,
   "metadata": {},
   "outputs": [],
   "source": [
    "# creating a stacked LSTM model for prediction\n",
    "model = Sequential()\n",
    "model.add(LSTM(50,activation='relu',return_sequences = True, input_shape=(X_train.shape[1],1)))\n",
    "model.add(LSTM(50,activation='relu',return_sequences = True))\n",
    "model.add(LSTM(50,activation='relu'))\n",
    "#model.add(Dense(25))\n",
    "model.add(Dense(1))\n",
    "model.compile(loss = 'mean_squared_error', optimizer = 'adam')"
   ]
  },
  {
   "cell_type": "code",
   "execution_count": 85,
   "metadata": {},
   "outputs": [
    {
     "name": "stdout",
     "output_type": "stream",
     "text": [
      "Model: \"sequential_9\"\n",
      "_________________________________________________________________\n",
      "Layer (type)                 Output Shape              Param #   \n",
      "=================================================================\n",
      "lstm_20 (LSTM)               (None, 100, 50)           10400     \n",
      "_________________________________________________________________\n",
      "lstm_21 (LSTM)               (None, 100, 50)           20200     \n",
      "_________________________________________________________________\n",
      "lstm_22 (LSTM)               (None, 50)                20200     \n",
      "_________________________________________________________________\n",
      "dense_8 (Dense)              (None, 1)                 51        \n",
      "=================================================================\n",
      "Total params: 50,851\n",
      "Trainable params: 50,851\n",
      "Non-trainable params: 0\n",
      "_________________________________________________________________\n"
     ]
    }
   ],
   "source": [
    "model.summary()"
   ]
  },
  {
   "cell_type": "code",
   "execution_count": 86,
   "metadata": {},
   "outputs": [
    {
     "name": "stdout",
     "output_type": "stream",
     "text": [
      "Epoch 1/100\n",
      "25/25 - 4s - loss: 0.0800 - val_loss: 0.0124\n",
      "Epoch 2/100\n",
      "25/25 - 3s - loss: 0.0073 - val_loss: 0.0023\n",
      "Epoch 3/100\n",
      "25/25 - 3s - loss: 0.0038 - val_loss: 0.0020\n",
      "Epoch 4/100\n",
      "25/25 - 3s - loss: 0.0031 - val_loss: 0.0016\n",
      "Epoch 5/100\n",
      "25/25 - 3s - loss: 0.0026 - val_loss: 0.0014\n",
      "Epoch 6/100\n",
      "25/25 - 3s - loss: 0.0022 - val_loss: 0.0019\n",
      "Epoch 7/100\n",
      "25/25 - 3s - loss: 0.0020 - val_loss: 0.0016\n",
      "Epoch 8/100\n",
      "25/25 - 3s - loss: 0.0019 - val_loss: 0.0013\n",
      "Epoch 9/100\n",
      "25/25 - 3s - loss: 0.0017 - val_loss: 0.0016\n",
      "Epoch 10/100\n",
      "25/25 - 3s - loss: 0.0018 - val_loss: 0.0012\n",
      "Epoch 11/100\n",
      "25/25 - 3s - loss: 0.0016 - val_loss: 0.0012\n",
      "Epoch 12/100\n",
      "25/25 - 3s - loss: 0.0015 - val_loss: 0.0013\n",
      "Epoch 13/100\n",
      "25/25 - 3s - loss: 0.0015 - val_loss: 0.0011\n",
      "Epoch 14/100\n",
      "25/25 - 3s - loss: 0.0014 - val_loss: 0.0012\n",
      "Epoch 15/100\n",
      "25/25 - 3s - loss: 0.0014 - val_loss: 0.0011\n",
      "Epoch 16/100\n",
      "25/25 - 3s - loss: 0.0014 - val_loss: 0.0011\n",
      "Epoch 17/100\n",
      "25/25 - 3s - loss: 0.0013 - val_loss: 0.0013\n",
      "Epoch 18/100\n",
      "25/25 - 3s - loss: 0.0012 - val_loss: 9.7706e-04\n",
      "Epoch 19/100\n",
      "25/25 - 3s - loss: 0.0011 - val_loss: 0.0010\n",
      "Epoch 20/100\n",
      "25/25 - 3s - loss: 0.0011 - val_loss: 0.0013\n",
      "Epoch 21/100\n",
      "25/25 - 3s - loss: 0.0012 - val_loss: 0.0019\n",
      "Epoch 22/100\n",
      "25/25 - 3s - loss: 0.0015 - val_loss: 8.8204e-04\n",
      "Epoch 23/100\n",
      "25/25 - 3s - loss: 9.5224e-04 - val_loss: 9.9084e-04\n",
      "Epoch 24/100\n",
      "25/25 - 3s - loss: 8.7921e-04 - val_loss: 9.2583e-04\n",
      "Epoch 25/100\n",
      "25/25 - 3s - loss: 8.6420e-04 - val_loss: 9.5907e-04\n",
      "Epoch 26/100\n",
      "25/25 - 3s - loss: 8.1284e-04 - val_loss: 7.8734e-04\n",
      "Epoch 27/100\n",
      "25/25 - 3s - loss: 8.5777e-04 - val_loss: 8.3592e-04\n",
      "Epoch 28/100\n",
      "25/25 - 3s - loss: 7.7250e-04 - val_loss: 7.5252e-04\n",
      "Epoch 29/100\n",
      "25/25 - 3s - loss: 7.1123e-04 - val_loss: 7.6404e-04\n",
      "Epoch 30/100\n",
      "25/25 - 3s - loss: 7.7884e-04 - val_loss: 0.0011\n",
      "Epoch 31/100\n",
      "25/25 - 3s - loss: 8.7319e-04 - val_loss: 6.6740e-04\n",
      "Epoch 32/100\n",
      "25/25 - 3s - loss: 6.5357e-04 - val_loss: 6.5474e-04\n",
      "Epoch 33/100\n",
      "25/25 - 3s - loss: 6.4374e-04 - val_loss: 6.0339e-04\n",
      "Epoch 34/100\n",
      "25/25 - 3s - loss: 6.8880e-04 - val_loss: 6.0746e-04\n",
      "Epoch 35/100\n",
      "25/25 - 3s - loss: 6.2937e-04 - val_loss: 5.8247e-04\n",
      "Epoch 36/100\n",
      "25/25 - 3s - loss: 5.9515e-04 - val_loss: 6.4370e-04\n",
      "Epoch 37/100\n",
      "25/25 - 3s - loss: 5.6994e-04 - val_loss: 5.2397e-04\n",
      "Epoch 38/100\n",
      "25/25 - 3s - loss: 5.6975e-04 - val_loss: 6.8279e-04\n",
      "Epoch 39/100\n",
      "25/25 - 3s - loss: 7.2965e-04 - val_loss: 6.4012e-04\n",
      "Epoch 40/100\n",
      "25/25 - 3s - loss: 5.8132e-04 - val_loss: 5.1530e-04\n",
      "Epoch 41/100\n",
      "25/25 - 3s - loss: 5.7160e-04 - val_loss: 5.6733e-04\n",
      "Epoch 42/100\n",
      "25/25 - 3s - loss: 5.7326e-04 - val_loss: 4.8330e-04\n",
      "Epoch 43/100\n",
      "25/25 - 3s - loss: 4.9748e-04 - val_loss: 5.4574e-04\n",
      "Epoch 44/100\n",
      "25/25 - 3s - loss: 5.1395e-04 - val_loss: 4.4805e-04\n",
      "Epoch 45/100\n",
      "25/25 - 3s - loss: 5.1108e-04 - val_loss: 4.3632e-04\n",
      "Epoch 46/100\n",
      "25/25 - 3s - loss: 5.5471e-04 - val_loss: 5.3424e-04\n",
      "Epoch 47/100\n",
      "25/25 - 3s - loss: 4.7871e-04 - val_loss: 4.7608e-04\n",
      "Epoch 48/100\n",
      "25/25 - 3s - loss: 4.9493e-04 - val_loss: 4.0440e-04\n",
      "Epoch 49/100\n",
      "25/25 - 3s - loss: 4.9835e-04 - val_loss: 4.0490e-04\n",
      "Epoch 50/100\n",
      "25/25 - 3s - loss: 4.5483e-04 - val_loss: 4.3969e-04\n",
      "Epoch 51/100\n",
      "25/25 - 3s - loss: 4.5527e-04 - val_loss: 4.8269e-04\n",
      "Epoch 52/100\n",
      "25/25 - 3s - loss: 4.5288e-04 - val_loss: 3.7901e-04\n",
      "Epoch 53/100\n",
      "25/25 - 3s - loss: 4.7693e-04 - val_loss: 5.2968e-04\n",
      "Epoch 54/100\n",
      "25/25 - 3s - loss: 5.1321e-04 - val_loss: 5.8949e-04\n",
      "Epoch 55/100\n",
      "25/25 - 3s - loss: 4.7189e-04 - val_loss: 3.7810e-04\n",
      "Epoch 56/100\n",
      "25/25 - 3s - loss: 4.3911e-04 - val_loss: 4.0696e-04\n",
      "Epoch 57/100\n",
      "25/25 - 3s - loss: 4.4104e-04 - val_loss: 3.9871e-04\n",
      "Epoch 58/100\n",
      "25/25 - 3s - loss: 4.6209e-04 - val_loss: 5.7709e-04\n",
      "Epoch 59/100\n",
      "25/25 - 3s - loss: 6.0058e-04 - val_loss: 3.7430e-04\n",
      "Epoch 60/100\n",
      "25/25 - 3s - loss: 4.5820e-04 - val_loss: 3.5830e-04\n",
      "Epoch 61/100\n",
      "25/25 - 3s - loss: 4.5408e-04 - val_loss: 4.0976e-04\n",
      "Epoch 62/100\n",
      "25/25 - 3s - loss: 4.4259e-04 - val_loss: 3.8898e-04\n",
      "Epoch 63/100\n",
      "25/25 - 3s - loss: 4.3268e-04 - val_loss: 3.5780e-04\n",
      "Epoch 64/100\n",
      "25/25 - 3s - loss: 4.2036e-04 - val_loss: 4.5250e-04\n",
      "Epoch 65/100\n",
      "25/25 - 3s - loss: 5.3208e-04 - val_loss: 7.5525e-04\n",
      "Epoch 66/100\n",
      "25/25 - 3s - loss: 4.5099e-04 - val_loss: 4.1972e-04\n",
      "Epoch 67/100\n",
      "25/25 - 3s - loss: 4.6591e-04 - val_loss: 3.5686e-04\n",
      "Epoch 68/100\n",
      "25/25 - 3s - loss: 4.0823e-04 - val_loss: 3.4239e-04\n",
      "Epoch 69/100\n",
      "25/25 - 3s - loss: 4.0404e-04 - val_loss: 3.4267e-04\n",
      "Epoch 70/100\n",
      "25/25 - 3s - loss: 4.0764e-04 - val_loss: 3.7683e-04\n",
      "Epoch 71/100\n",
      "25/25 - 3s - loss: 4.0414e-04 - val_loss: 3.4179e-04\n",
      "Epoch 72/100\n",
      "25/25 - 3s - loss: 3.9207e-04 - val_loss: 3.8988e-04\n",
      "Epoch 73/100\n",
      "25/25 - 3s - loss: 4.2666e-04 - val_loss: 3.3602e-04\n",
      "Epoch 74/100\n",
      "25/25 - 3s - loss: 4.4392e-04 - val_loss: 3.4571e-04\n",
      "Epoch 75/100\n",
      "25/25 - 3s - loss: 4.4296e-04 - val_loss: 3.4420e-04\n",
      "Epoch 76/100\n",
      "25/25 - 3s - loss: 3.9842e-04 - val_loss: 3.8659e-04\n",
      "Epoch 77/100\n",
      "25/25 - 3s - loss: 3.9662e-04 - val_loss: 3.4511e-04\n",
      "Epoch 78/100\n",
      "25/25 - 3s - loss: 4.3243e-04 - val_loss: 3.7525e-04\n",
      "Epoch 79/100\n",
      "25/25 - 3s - loss: 3.9173e-04 - val_loss: 3.7139e-04\n",
      "Epoch 80/100\n",
      "25/25 - 3s - loss: 5.3981e-04 - val_loss: 3.4048e-04\n",
      "Epoch 81/100\n",
      "25/25 - 3s - loss: 4.0690e-04 - val_loss: 3.8721e-04\n",
      "Epoch 82/100\n",
      "25/25 - 3s - loss: 4.1908e-04 - val_loss: 3.2847e-04\n",
      "Epoch 83/100\n",
      "25/25 - 3s - loss: 4.6315e-04 - val_loss: 3.4777e-04\n",
      "Epoch 84/100\n",
      "25/25 - 3s - loss: 4.2450e-04 - val_loss: 3.6449e-04\n",
      "Epoch 85/100\n",
      "25/25 - 3s - loss: 3.9624e-04 - val_loss: 3.2943e-04\n",
      "Epoch 86/100\n",
      "25/25 - 3s - loss: 4.0206e-04 - val_loss: 3.7584e-04\n",
      "Epoch 87/100\n",
      "25/25 - 3s - loss: 3.8368e-04 - val_loss: 3.6921e-04\n",
      "Epoch 88/100\n",
      "25/25 - 3s - loss: 3.7898e-04 - val_loss: 4.8600e-04\n",
      "Epoch 89/100\n",
      "25/25 - 3s - loss: 4.1667e-04 - val_loss: 4.1919e-04\n",
      "Epoch 90/100\n",
      "25/25 - 3s - loss: 4.4764e-04 - val_loss: 3.2116e-04\n",
      "Epoch 91/100\n",
      "25/25 - 3s - loss: 3.9508e-04 - val_loss: 6.7859e-04\n",
      "Epoch 92/100\n",
      "25/25 - 3s - loss: 5.0009e-04 - val_loss: 5.8156e-04\n",
      "Epoch 93/100\n",
      "25/25 - 3s - loss: 4.5302e-04 - val_loss: 3.3570e-04\n",
      "Epoch 94/100\n",
      "25/25 - 3s - loss: 4.1372e-04 - val_loss: 3.6558e-04\n",
      "Epoch 95/100\n",
      "25/25 - 3s - loss: 4.1624e-04 - val_loss: 7.6954e-04\n",
      "Epoch 96/100\n",
      "25/25 - 3s - loss: 4.3654e-04 - val_loss: 3.2128e-04\n",
      "Epoch 97/100\n",
      "25/25 - 3s - loss: 3.9385e-04 - val_loss: 3.2346e-04\n",
      "Epoch 98/100\n",
      "25/25 - 3s - loss: 4.1357e-04 - val_loss: 6.2553e-04\n",
      "Epoch 99/100\n",
      "25/25 - 3s - loss: 5.2455e-04 - val_loss: 6.8198e-04\n",
      "Epoch 100/100\n",
      "25/25 - 3s - loss: 4.0847e-04 - val_loss: 3.6848e-04\n"
     ]
    },
    {
     "data": {
      "text/plain": [
       "<tensorflow.python.keras.callbacks.History at 0x7d93c005c8>"
      ]
     },
     "execution_count": 86,
     "metadata": {},
     "output_type": "execute_result"
    }
   ],
   "source": [
    "# now fitting the model\n",
    "\n",
    "model.fit(X_train,Y_train,validation_data=(X_test,Y_test),epochs = 100, batch_size = 64,verbose =2)"
   ]
  },
  {
   "cell_type": "code",
   "execution_count": 87,
   "metadata": {},
   "outputs": [],
   "source": [
    "# prediction\n",
    "train_predict_scaled = model.predict(X_train)\n",
    "test_predict_scaled = model.predict(X_test)"
   ]
  },
  {
   "cell_type": "code",
   "execution_count": 88,
   "metadata": {},
   "outputs": [],
   "source": [
    "# transform the data into original form \n",
    "# note: we have converted the data using minmaxscalar\n",
    "train_predict = scaler.inverse_transform(train_predict_scaled)\n",
    "test_predict = scaler.inverse_transform(test_predict_scaled)"
   ]
  },
  {
   "cell_type": "code",
   "execution_count": 89,
   "metadata": {},
   "outputs": [
    {
     "name": "stdout",
     "output_type": "stream",
     "text": [
      "Training MSE:  1905194.158258857\n",
      "Training RMSE:  1380.2877085082143\n",
      "\n",
      "Testing MSE:  1957323.32487068\n",
      "Testing RMSE:  1399.043717998362\n"
     ]
    }
   ],
   "source": [
    "# checking model performance\n",
    "from sklearn.metrics import mean_squared_error,r2_score\n",
    "print(\"Training MSE: \", mean_squared_error(Y_train,train_predict))\n",
    "print(\"Training RMSE: \", np.sqrt(mean_squared_error(Y_train,train_predict)))\n",
    "print()\n",
    "print(\"Testing MSE: \", mean_squared_error(Y_test,test_predict))\n",
    "print(\"Testing RMSE: \", np.sqrt(mean_squared_error(Y_test,test_predict)))"
   ]
  },
  {
   "cell_type": "code",
   "execution_count": 219,
   "metadata": {},
   "outputs": [
    {
     "data": {
      "text/plain": [
       "array([[nan],\n",
       "       [nan],\n",
       "       [nan],\n",
       "       ...,\n",
       "       [nan],\n",
       "       [nan],\n",
       "       [nan]])"
      ]
     },
     "execution_count": 219,
     "metadata": {},
     "output_type": "execute_result"
    }
   ],
   "source": [
    "trainPredictedPlot = np.empty_like(data_scaled)\n",
    "trainPredictedPlot[:,:] = np.nan\n",
    "trainPredictedPlot"
   ]
  },
  {
   "cell_type": "code",
   "execution_count": 220,
   "metadata": {},
   "outputs": [
    {
     "data": {
      "text/plain": [
       "(1761, 1660)"
      ]
     },
     "execution_count": 220,
     "metadata": {},
     "output_type": "execute_result"
    }
   ],
   "source": [
    "len(train_predict)+(look_back*2)+1,len(train_predict)+look_back"
   ]
  },
  {
   "cell_type": "code",
   "execution_count": 62,
   "metadata": {},
   "outputs": [
    {
     "data": {
      "image/png": "[encoded data removed]",
      "text/plain": [
       "<Figure size 432x288 with 1 Axes>"
      ]
     },
     "metadata": {
      "needs_background": "light"
     },
     "output_type": "display_data"
    }
   ],
   "source": [
    "look_back = 100\n",
    "# shift train predictions for plotting\n",
    "trainPredictedPlot = np.empty_like(data_scaled)\n",
    "trainPredictedPlot[:,:] = np.nan\n",
    "trainPredictedPlot[look_back:len(train_predict)+look_back,:] = train_predict\n",
    "\n",
    "# shift test predictions for plotting\n",
    "testPredictedPlot = np.empty_like(data_scaled)\n",
    "testPredictedPlot[:,:] = np.nan\n",
    "testPredictedPlot[len(train_predict)+(look_back*2)+1:len(data_scaled)-1,:] = test_predict\n",
    "# plotting graph\n",
    "plt.plot(scaler.inverse_transform(data_scaled),label = 'Actual Data')\n",
    "plt.plot(trainPredictedPlot,label = 'Training Predictions')\n",
    "plt.plot(testPredictedPlot,label='Testing Predictions')\n",
    "plt.legend(loc='best')\n",
    "plt.show()"
   ]
  },
  {
   "cell_type": "code",
   "execution_count": 222,
   "metadata": {},
   "outputs": [],
   "source": [
    "#plt.plot(pd.Series(data),label = 'Actual Data')\n",
    "#plt.plot(pd.Series(scaler.inverse_transform(train_data).reshape(len(train_data)),index = data[0:int((len(data)*0.8))].index),label = 'Train Data')\n",
    "#plt.plot(pd.Series(scaler.inverse_transform(test_data).reshape(len(test_data)),index = data[int((len(data)*0.8)):].index),label = 'Test Data')\n",
    "#plt.legend(loc='best')\n",
    "#plt.show()"
   ]
  },
  {
   "cell_type": "code",
   "execution_count": 57,
   "metadata": {},
   "outputs": [
    {
     "name": "stderr",
     "output_type": "stream",
     "text": [
      "C:\\Users\\DELL\\Anaconda3\\lib\\site-packages\\ipykernel_launcher.py:3: SettingWithCopyWarning: \n",
      "A value is trying to be set on a copy of a slice from a DataFrame.\n",
      "Try using .loc[row_indexer,col_indexer] = value instead\n",
      "\n",
      "See the caveats in the documentation: http://pandas.pydata.org/pandas-docs/stable/user_guide/indexing.html#returning-a-view-versus-a-copy\n",
      "  This is separate from the ipykernel package so we can avoid doing imports until\n"
     ]
    }
   ],
   "source": [
    "train = data[0:datalen+time_step]\n",
    "valid = data[datalen+time_step+1:]\n",
    "valid['Predicted'] = test_predict"
   ]
  },
  {
   "cell_type": "code",
   "execution_count": 58,
   "metadata": {},
   "outputs": [
    {
     "data": {
      "image/png": "[encoded data removed]",
      "text/plain": [
       "<Figure size 1152x576 with 1 Axes>"
      ]
     },
     "metadata": {
      "needs_background": "light"
     },
     "output_type": "display_data"
    }
   ],
   "source": [
    "plt.figure(figsize=(16,8))\n",
    "plt.plot(train,label='Trianing Data')\n",
    "plt.plot(valid['Close'],label='Testing Data')\n",
    "plt.plot(valid['Predicted'],label='Predicted Data')\n",
    "plt.legend(loc='best')\n",
    "plt.show()"
   ]
  },
  {
   "cell_type": "code",
   "execution_count": 225,
   "metadata": {},
   "outputs": [
    {
     "data": {
      "text/html": [
       "<div>\n",
       "<style scoped>\n",
       "    .dataframe tbody tr th:only-of-type {\n",
       "        vertical-align: middle;\n",
       "    }\n",
       "\n",
       "    .dataframe tbody tr th {\n",
       "        vertical-align: top;\n",
       "    }\n",
       "\n",
       "    .dataframe thead th {\n",
       "        text-align: right;\n",
       "    }\n",
       "</style>\n",
       "<table border=\"1\" class=\"dataframe\">\n",
       "  <thead>\n",
       "    <tr style=\"text-align: right;\">\n",
       "      <th></th>\n",
       "      <th>Close</th>\n",
       "      <th>Predicted</th>\n",
       "    </tr>\n",
       "    <tr>\n",
       "      <th>Date</th>\n",
       "      <th></th>\n",
       "      <th></th>\n",
       "    </tr>\n",
       "  </thead>\n",
       "  <tbody>\n",
       "    <tr>\n",
       "      <th>2018-01-24</th>\n",
       "      <td>1355.90002</td>\n",
       "      <td>1330.04199</td>\n",
       "    </tr>\n",
       "    <tr>\n",
       "      <th>2018-01-25</th>\n",
       "      <td>1362.40002</td>\n",
       "      <td>1333.58655</td>\n",
       "    </tr>\n",
       "    <tr>\n",
       "      <th>2018-01-26</th>\n",
       "      <td>1351.59998</td>\n",
       "      <td>1349.47607</td>\n",
       "    </tr>\n",
       "    <tr>\n",
       "      <th>2018-01-30</th>\n",
       "      <td>1335.40002</td>\n",
       "      <td>1362.19202</td>\n",
       "    </tr>\n",
       "    <tr>\n",
       "      <th>2018-01-31</th>\n",
       "      <td>1339.00000</td>\n",
       "      <td>1357.99707</td>\n",
       "    </tr>\n",
       "    <tr>\n",
       "      <th>...</th>\n",
       "      <td>...</td>\n",
       "      <td>...</td>\n",
       "    </tr>\n",
       "    <tr>\n",
       "      <th>2020-06-04</th>\n",
       "      <td>1719.80005</td>\n",
       "      <td>1732.22986</td>\n",
       "    </tr>\n",
       "    <tr>\n",
       "      <th>2020-06-05</th>\n",
       "      <td>1688.59998</td>\n",
       "      <td>1701.28442</td>\n",
       "    </tr>\n",
       "    <tr>\n",
       "      <th>2020-06-07</th>\n",
       "      <td>1684.09998</td>\n",
       "      <td>1725.28467</td>\n",
       "    </tr>\n",
       "    <tr>\n",
       "      <th>2020-06-08</th>\n",
       "      <td>1704.80005</td>\n",
       "      <td>1692.10010</td>\n",
       "    </tr>\n",
       "    <tr>\n",
       "      <th>2020-06-09</th>\n",
       "      <td>1714.80005</td>\n",
       "      <td>1687.76147</td>\n",
       "    </tr>\n",
       "  </tbody>\n",
       "</table>\n",
       "<p>611 rows × 2 columns</p>\n",
       "</div>"
      ],
      "text/plain": [
       "                Close  Predicted\n",
       "Date                            \n",
       "2018-01-24 1355.90002 1330.04199\n",
       "2018-01-25 1362.40002 1333.58655\n",
       "2018-01-26 1351.59998 1349.47607\n",
       "2018-01-30 1335.40002 1362.19202\n",
       "2018-01-31 1339.00000 1357.99707\n",
       "...               ...        ...\n",
       "2020-06-04 1719.80005 1732.22986\n",
       "2020-06-05 1688.59998 1701.28442\n",
       "2020-06-07 1684.09998 1725.28467\n",
       "2020-06-08 1704.80005 1692.10010\n",
       "2020-06-09 1714.80005 1687.76147\n",
       "\n",
       "[611 rows x 2 columns]"
      ]
     },
     "execution_count": 225,
     "metadata": {},
     "output_type": "execute_result"
    }
   ],
   "source": [
    "valid"
   ]
  },
  {
   "cell_type": "code",
   "execution_count": 63,
   "metadata": {},
   "outputs": [
    {
     "data": {
      "text/plain": [
       "712"
      ]
     },
     "execution_count": 63,
     "metadata": {},
     "output_type": "execute_result"
    }
   ],
   "source": [
    "len(test_data_scaled)"
   ]
  },
  {
   "cell_type": "code",
   "execution_count": 64,
   "metadata": {},
   "outputs": [
    {
     "data": {
      "text/plain": [
       "(1, 100)"
      ]
     },
     "execution_count": 64,
     "metadata": {},
     "output_type": "execute_result"
    }
   ],
   "source": [
    "x_input = test_data_scaled[len(test_data_scaled)-100:].reshape(1,-1)\n",
    "#x_input[0].tolist()\n",
    "x_input.shape"
   ]
  },
  {
   "cell_type": "code",
   "execution_count": 65,
   "metadata": {},
   "outputs": [],
   "source": [
    "temp_input = list(x_input)\n",
    "temp_input = temp_input[0].tolist()"
   ]
  },
  {
   "cell_type": "code",
   "execution_count": 66,
   "metadata": {},
   "outputs": [
    {
     "data": {
      "text/plain": [
       "100"
      ]
     },
     "execution_count": 66,
     "metadata": {},
     "output_type": "execute_result"
    }
   ],
   "source": [
    "len(temp_input)"
   ]
  },
  {
   "cell_type": "code",
   "execution_count": 67,
   "metadata": {},
   "outputs": [],
   "source": [
    "lst_output = []\n",
    "n_steps = 100\n",
    "i=0\n",
    "\n",
    "while(i<30):\n",
    "    if len(temp_input) > 100:\n",
    "        x_input = np.array(temp_input[1:])\n",
    "        x_input = x_input.reshape(1,-1)\n",
    "        x_input = x_input.reshape((1,x_input.shape[1],1))\n",
    "        yhat = model.predict(x_input)\n",
    "        lst_output.extend(yhat.tolist())\n",
    "        temp_input.extend(yhat[0].tolist())\n",
    "        temp_input = temp_input[1:]\n",
    "        i = i+1\n",
    "        \n",
    "    else:\n",
    "        x_input = x_input.reshape((1,x_input.shape[1],1))\n",
    "        yhat = model.predict(x_input)\n",
    "        lst_output.extend(yhat.tolist())\n",
    "        temp_input.extend(yhat[0].tolist())\n",
    "        i = i+1"
   ]
  },
  {
   "cell_type": "code",
   "execution_count": 68,
   "metadata": {},
   "outputs": [],
   "source": [
    "dt_new = np.arange(1,101)\n",
    "dt_pred = np.arange(101,131)\n",
    "#dt_pred = np.arange(101,101+365)"
   ]
  },
  {
   "cell_type": "code",
   "execution_count": 69,
   "metadata": {},
   "outputs": [
    {
     "data": {
      "text/plain": [
       "712"
      ]
     },
     "execution_count": 69,
     "metadata": {},
     "output_type": "execute_result"
    }
   ],
   "source": [
    "len(test_data_scaled)"
   ]
  },
  {
   "cell_type": "code",
   "execution_count": 70,
   "metadata": {},
   "outputs": [
    {
     "data": {
      "text/plain": [
       "[<matplotlib.lines.Line2D at 0x7d93c8b748>]"
      ]
     },
     "execution_count": 70,
     "metadata": {},
     "output_type": "execute_result"
    },
    {
     "data": {
      "image/png": "[encoded data removed]",
      "text/plain": [
       "<Figure size 432x288 with 1 Axes>"
      ]
     },
     "metadata": {
      "needs_background": "light"
     },
     "output_type": "display_data"
    }
   ],
   "source": [
    "plt.plot(dt_new,scaler.inverse_transform(test_data_scaled[len(test_data_scaled)-100:]))\n",
    "plt.plot(dt_pred,scaler.inverse_transform(lst_output))"
   ]
  },
  {
   "cell_type": "code",
   "execution_count": 234,
   "metadata": {},
   "outputs": [],
   "source": [
    "#len(dfdata)"
   ]
  },
  {
   "cell_type": "code",
   "execution_count": 71,
   "metadata": {},
   "outputs": [
    {
     "data": {
      "text/plain": [
       "[<matplotlib.lines.Line2D at 0x7d92a22fc8>]"
      ]
     },
     "execution_count": 71,
     "metadata": {},
     "output_type": "execute_result"
    },
    {
     "data": {
      "image/png": "[encoded data removed]",
      "text/plain": [
       "<Figure size 432x288 with 1 Axes>"
      ]
     },
     "metadata": {
      "needs_background": "light"
     },
     "output_type": "display_data"
    }
   ],
   "source": [
    "dfdata = data_scaled.tolist()\n",
    "dfdata.extend(lst_output)\n",
    "plt.plot(dfdata[:])"
   ]
  },
  {
   "cell_type": "code",
   "execution_count": null,
   "metadata": {},
   "outputs": [],
   "source": []
  }
 ],
 "metadata": {
  "kernelspec": {
   "display_name": "Python 3",
   "language": "python",
   "name": "python3"
  },
  "language_info": {
   "codemirror_mode": {
    "name": "ipython",
    "version": 3
   },
   "file_extension": ".py",
   "mimetype": "text/x-python",
   "name": "python",
   "nbconvert_exporter": "python",
   "pygments_lexer": "ipython3",
   "version": "3.7.4"
  }
 },
 "nbformat": 4,
 "nbformat_minor": 2
}
